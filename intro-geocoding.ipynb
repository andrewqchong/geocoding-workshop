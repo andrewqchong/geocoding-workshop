{
 "cells": [
  {
   "cell_type": "markdown",
   "metadata": {},
   "source": [
    "# Introductory Geocoding and Mapping"
   ]
  },
  {
   "cell_type": "markdown",
   "metadata": {},
   "source": [
    "Juan Shishido\n",
    "\n",
    "School of Information\n",
    "\n",
    "GSR, D-Lab"
   ]
  },
  {
   "cell_type": "markdown",
   "metadata": {},
   "source": [
    "## Imports"
   ]
  },
  {
   "cell_type": "code",
   "execution_count": 1,
   "metadata": {
    "collapsed": true
   },
   "outputs": [],
   "source": [
    "import json\n",
    "import requests\n",
    "import pandas\n",
    "from pprint import pprint"
   ]
  },
  {
   "cell_type": "markdown",
   "metadata": {},
   "source": [
    "## Using the APIs"
   ]
  },
  {
   "cell_type": "markdown",
   "metadata": {},
   "source": [
    "A function with options for both DSTK and Photon.\n",
    "\n",
    "This is just for demonstration purposes. In most situations, you'll probably not want to combine both the DSTK and Photon APIs into a single function. Of course, it's based on preference, so you might, in fact, want to do that. Just know that Photon provides more information (even multiple results, in some cases) than DSTK."
   ]
  },
  {
   "cell_type": "code",
   "execution_count": 2,
   "metadata": {
    "collapsed": false
   },
   "outputs": [],
   "source": [
    "def single_address(address, api='dstk'):\n",
    "    '''\n",
    "    Individual address lookup with\n",
    "    either DSTK or Photon\n",
    "    \n",
    "    Default is DSTK's /street2coordinates\n",
    "    For DSTK's Google-style: 'google'\n",
    "    For Photon: 'photon'\n",
    "    \n",
    "    Address must be a string\n",
    "    '''\n",
    "    \n",
    "    # API check\n",
    "    assert api in ('dstk', 'google', 'photon')\n",
    "    \n",
    "    # Type check\n",
    "    assert type(address) == str\n",
    "    \n",
    "    # /street2coordinates\n",
    "    dstk_dstk = 'http://www.datasciencetoolkit.org/street2coordinates/'\n",
    "    \n",
    "    # Google-style\n",
    "    dstk_google = 'http://www.datasciencetoolkit.org/maps/api/geocode/json?sensor=false&address='\n",
    "    \n",
    "    # Photon\n",
    "    photon = 'http://photon.komoot.de/api/?q='\n",
    "    \n",
    "    # API\n",
    "    if api == 'dstk':\n",
    "        url_prefix = dstk_dstk\n",
    "    elif api == 'google':\n",
    "        url_prefix = dstk_google\n",
    "    elif api == 'photon':\n",
    "        url_prefix = photon\n",
    "    \n",
    "    # URL\n",
    "    url = url_prefix + address.replace(' ', '+')\n",
    "    \n",
    "    # Response\n",
    "    response = requests.get(url)\n",
    "    return json.loads(response.text)"
   ]
  },
  {
   "cell_type": "markdown",
   "metadata": {},
   "source": [
    "## Data Science Toolkit"
   ]
  },
  {
   "cell_type": "markdown",
   "metadata": {},
   "source": [
    "### Street Address to Coordinates"
   ]
  },
  {
   "cell_type": "code",
   "execution_count": 3,
   "metadata": {
    "collapsed": false
   },
   "outputs": [
    {
     "name": "stdout",
     "output_type": "stream",
     "text": [
      "{u'1600 Amphitheatre Pkwy, Mountain View, CA': {u'confidence': 0.902,\n",
      "                                                u'country_code': u'US',\n",
      "                                                u'country_code3': u'USA',\n",
      "                                                u'country_name': u'United States',\n",
      "                                                u'fips_county': u'06085',\n",
      "                                                u'latitude': 37.423471,\n",
      "                                                u'locality': u'Mountain View',\n",
      "                                                u'longitude': -122.086546,\n",
      "                                                u'region': u'CA',\n",
      "                                                u'street_address': u'1600 Amphitheatre Pkwy',\n",
      "                                                u'street_name': u'Amphitheatre Pkwy',\n",
      "                                                u'street_number': u'1600'}}\n"
     ]
    }
   ],
   "source": [
    "google_hq = single_address('1600 Amphitheatre Pkwy, Mountain View, CA')\n",
    "pprint(google_hq)"
   ]
  },
  {
   "cell_type": "markdown",
   "metadata": {},
   "source": [
    "### Google-style"
   ]
  },
  {
   "cell_type": "code",
   "execution_count": 4,
   "metadata": {
    "collapsed": false
   },
   "outputs": [
    {
     "name": "stdout",
     "output_type": "stream",
     "text": [
      "{u'results': [{u'address_components': [{u'long_name': u'1600',\n",
      "                                        u'short_name': u'1600',\n",
      "                                        u'types': [u'street_number']},\n",
      "                                       {u'long_name': u'Amphitheatre Pkwy',\n",
      "                                        u'short_name': u'Amphitheatre Pkwy',\n",
      "                                        u'types': [u'route']},\n",
      "                                       {u'long_name': u'Mountain View',\n",
      "                                        u'short_name': u'Mountain View',\n",
      "                                        u'types': [u'locality',\n",
      "                                                   u'political']},\n",
      "                                       {u'long_name': u'CA',\n",
      "                                        u'short_name': u'CA',\n",
      "                                        u'types': [u'administrative_area_level_1',\n",
      "                                                   u'political']},\n",
      "                                       {u'long_name': u'United States',\n",
      "                                        u'short_name': u'US',\n",
      "                                        u'types': [u'country',\n",
      "                                                   u'political']}],\n",
      "               u'formatted_address': u'1600 Amphitheatre Pkwy, Mountain View, CA',\n",
      "               u'geometry': {u'location': {u'lat': 37.423471,\n",
      "                                           u'lng': -122.086546},\n",
      "                             u'location_type': u'ROOFTOP',\n",
      "                             u'viewport': {u'northeast': {u'lat': 37.424471,\n",
      "                                                          u'lng': -122.085546},\n",
      "                                           u'southwest': {u'lat': 37.422471,\n",
      "                                                          u'lng': -122.087546}}},\n",
      "               u'types': [u'street_address']}],\n",
      " u'status': u'OK'}\n"
     ]
    }
   ],
   "source": [
    "google = single_address('1600 Amphitheatre Pkwy, Mountain View, CA', 'google')\n",
    "pprint(google)"
   ]
  },
  {
   "cell_type": "markdown",
   "metadata": {},
   "source": [
    "DSTK provides a Google-style option to make it easier for people already using Google's geocoding API. Simply replace `maps.googleapis.com` with `www.datasciencetoolkit.org`."
   ]
  },
  {
   "cell_type": "markdown",
   "metadata": {},
   "source": [
    "## Photon"
   ]
  },
  {
   "cell_type": "code",
   "execution_count": 5,
   "metadata": {
    "collapsed": false
   },
   "outputs": [
    {
     "name": "stdout",
     "output_type": "stream",
     "text": [
      "{u'features': [{u'geometry': {u'coordinates': [-122.0850862, 37.4228139],\n",
      "                              u'type': u'Point'},\n",
      "                u'properties': {u'city': u'Mountain View',\n",
      "                                u'country': u'United States of America',\n",
      "                                u'housenumber': u'1600',\n",
      "                                u'name': u'Google Headquaters',\n",
      "                                u'osm_id': 2192620021,\n",
      "                                u'osm_key': u'office',\n",
      "                                u'osm_type': u'N',\n",
      "                                u'osm_value': u'commercial',\n",
      "                                u'postcode': u'94043',\n",
      "                                u'state': u'California',\n",
      "                                u'street': u'Amphitheatre Parkway'},\n",
      "                u'type': u'Feature'}],\n",
      " u'type': u'FeatureCollection'}\n"
     ]
    }
   ],
   "source": [
    "google = single_address('1600 Amphitheatre Pkwy, Mountain View, CA', 'photon')\n",
    "pprint(google)"
   ]
  },
  {
   "cell_type": "markdown",
   "metadata": {},
   "source": [
    "Photon provides much more data than DSTK. In can also returns multiple entries. In those cases, you'll need to parse through the JSON to get what you need."
   ]
  },
  {
   "cell_type": "markdown",
   "metadata": {},
   "source": [
    "## Batch Geocoding"
   ]
  },
  {
   "cell_type": "markdown",
   "metadata": {},
   "source": [
    "### Command-line Interface"
   ]
  },
  {
   "cell_type": "markdown",
   "metadata": {},
   "source": [
    "> The standard IPython kernel allows running code in other languages using the %%magic syntax.\n",
    "\n",
    "You can use cURL to access the DSTK API and even save the output to a file. First, invoke the `bash` magic command. It is only active in the cell in which it's called."
   ]
  },
  {
   "cell_type": "markdown",
   "metadata": {},
   "source": [
    "#### Single address"
   ]
  },
  {
   "cell_type": "markdown",
   "metadata": {},
   "source": [
    "With the code below, you're submitting a POST request to the DSTK server. It prints the results and provides a table with additional information."
   ]
  },
  {
   "cell_type": "code",
   "execution_count": 6,
   "metadata": {
    "collapsed": false
   },
   "outputs": [
    {
     "name": "stdout",
     "output_type": "stream",
     "text": [
      "{\n",
      "  \"1600 Amphitheatre Pkwy, Mountain View, CA\": {\n",
      "    \"country_code3\": \"USA\",\n",
      "    \"latitude\": 37.423471,\n",
      "    \"country_name\": \"United States\",\n",
      "    \"longitude\": -122.086546,\n",
      "    \"street_address\": \"1600 Amphitheatre Pkwy\",\n",
      "    \"region\": \"CA\",\n",
      "    \"confidence\": 0.902,\n",
      "    \"street_number\": \"1600\",\n",
      "    \"locality\": \"Mountain View\",\n",
      "    \"street_name\": \"Amphitheatre Pkwy\",\n",
      "    \"fips_county\": \"06085\",\n",
      "    \"country_code\": \"US\"\n",
      "  }\n",
      "}"
     ]
    },
    {
     "name": "stderr",
     "output_type": "stream",
     "text": [
      "  % Total    % Received % Xferd  Average Speed   Time    Time     Time  Current\n",
      "                                 Dload  Upload   Total   Spent    Left  Speed\n",
      "\r",
      "  0     0    0     0    0     0      0      0 --:--:-- --:--:-- --:--:--     0\r",
      "100   467  100   426  100    41   1148    110 --:--:-- --:--:-- --:--:--  1151\n"
     ]
    }
   ],
   "source": [
    "%%bash\n",
    "\n",
    "curl -d \"1600 Amphitheatre Pkwy, Mountain View, CA\" \\\n",
    "     http://www.datasciencetoolkit.org/street2coordinates"
   ]
  },
  {
   "cell_type": "markdown",
   "metadata": {},
   "source": [
    "Note: The backslash in the command is simply to allow us to type the command across multiple lines."
   ]
  },
  {
   "cell_type": "markdown",
   "metadata": {},
   "source": [
    "#### Addresses from a file"
   ]
  },
  {
   "cell_type": "markdown",
   "metadata": {},
   "source": [
    "This command has three main components (listed from back-to-front):\n",
    "\n",
    "    http://www.datasciencetoolkit.org/street2coordinates\n",
    "    \n",
    "    -d @data/bartaddresses.txt\n",
    "    \n",
    "    -o data/bartcoordinates.json\n",
    "\n",
    "The first of these tells cURL the location of the API.\n",
    "\n",
    "The next one relates to the data to be sent to the API. This uses the `-d` flag. Use the `@` symbol to indicate that the addresses should be read from a file.\n",
    "\n",
    "The `-o` flag and the argument that follows it, tells cURL to save the output to a file named `bartcoordinates.json`."
   ]
  },
  {
   "cell_type": "code",
   "execution_count": 7,
   "metadata": {
    "collapsed": false
   },
   "outputs": [
    {
     "name": "stderr",
     "output_type": "stream",
     "text": [
      "  % Total    % Received % Xferd  Average Speed   Time    Time     Time  Current\n",
      "                                 Dload  Upload   Total   Spent    Left  Speed\n",
      "\r",
      "  0     0    0     0    0     0      0      0 --:--:-- --:--:-- --:--:--     0\r",
      " 15 20151    6  1250  100  1940   1883   2922  0:00:09 --:--:--  0:00:09  2921\r",
      "100 20151  100 18211  100  1940  20524   2186 --:--:-- --:--:-- --:--:-- 20507\n"
     ]
    }
   ],
   "source": [
    "%%bash\n",
    "\n",
    "curl -o data/bartcoordinates.json -d @data/bartaddresses.txt \\\n",
    "     http://www.datasciencetoolkit.org/street2coordinates"
   ]
  },
  {
   "cell_type": "markdown",
   "metadata": {},
   "source": [
    "Look in `./data` to find your geocoded addresses."
   ]
  },
  {
   "cell_type": "markdown",
   "metadata": {},
   "source": [
    "## Processing the Data"
   ]
  },
  {
   "cell_type": "code",
   "execution_count": null,
   "metadata": {
    "collapsed": true
   },
   "outputs": [],
   "source": []
  }
 ],
 "metadata": {
  "kernelspec": {
   "display_name": "Python 2",
   "language": "python",
   "name": "python2"
  },
  "language_info": {
   "codemirror_mode": {
    "name": "ipython",
    "version": 2
   },
   "file_extension": ".py",
   "mimetype": "text/x-python",
   "name": "python",
   "nbconvert_exporter": "python",
   "pygments_lexer": "ipython2",
   "version": "2.7.9"
  }
 },
 "nbformat": 4,
 "nbformat_minor": 0
}
